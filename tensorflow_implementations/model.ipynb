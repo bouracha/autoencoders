{
 "cells": [
  {
   "cell_type": "code",
   "execution_count": 1,
   "metadata": {},
   "outputs": [
    {
     "name": "stderr",
     "output_type": "stream",
     "text": [
      "/home/pn/scratch/lib/python3.6/site-packages/tensorflow/python/framework/dtypes.py:523: FutureWarning: Passing (type, 1) or '1type' as a synonym of type is deprecated; in a future version of numpy, it will be understood as (type, (1,)) / '(1,)type'.\n",
      "  _np_qint8 = np.dtype([(\"qint8\", np.int8, 1)])\n",
      "/home/pn/scratch/lib/python3.6/site-packages/tensorflow/python/framework/dtypes.py:524: FutureWarning: Passing (type, 1) or '1type' as a synonym of type is deprecated; in a future version of numpy, it will be understood as (type, (1,)) / '(1,)type'.\n",
      "  _np_quint8 = np.dtype([(\"quint8\", np.uint8, 1)])\n",
      "/home/pn/scratch/lib/python3.6/site-packages/tensorflow/python/framework/dtypes.py:525: FutureWarning: Passing (type, 1) or '1type' as a synonym of type is deprecated; in a future version of numpy, it will be understood as (type, (1,)) / '(1,)type'.\n",
      "  _np_qint16 = np.dtype([(\"qint16\", np.int16, 1)])\n",
      "/home/pn/scratch/lib/python3.6/site-packages/tensorflow/python/framework/dtypes.py:526: FutureWarning: Passing (type, 1) or '1type' as a synonym of type is deprecated; in a future version of numpy, it will be understood as (type, (1,)) / '(1,)type'.\n",
      "  _np_quint16 = np.dtype([(\"quint16\", np.uint16, 1)])\n",
      "/home/pn/scratch/lib/python3.6/site-packages/tensorflow/python/framework/dtypes.py:527: FutureWarning: Passing (type, 1) or '1type' as a synonym of type is deprecated; in a future version of numpy, it will be understood as (type, (1,)) / '(1,)type'.\n",
      "  _np_qint32 = np.dtype([(\"qint32\", np.int32, 1)])\n",
      "/home/pn/scratch/lib/python3.6/site-packages/tensorflow/python/framework/dtypes.py:532: FutureWarning: Passing (type, 1) or '1type' as a synonym of type is deprecated; in a future version of numpy, it will be understood as (type, (1,)) / '(1,)type'.\n",
      "  np_resource = np.dtype([(\"resource\", np.ubyte, 1)])\n"
     ]
    }
   ],
   "source": [
    "import tensorflow as tf\n",
    "from autoencoders.vanilla_autoencoders import AUTOENCODER_300_150_300\n",
    "from autoencoders.vanilla_autoencoders import AUTOENCODER_150\n",
    "from autoencoders.vanilla_autoencoders import AUTOENCODER_50\n",
    "\n",
    "\n",
    "from home.pn.PycharmProjects.autoencoders.helper_functions import *"
   ]
  },
  {
   "cell_type": "code",
   "execution_count": 2,
   "metadata": {},
   "outputs": [
    {
     "name": "stdout",
     "output_type": "stream",
     "text": [
      "Getting MNIST data..\n",
      "Retrieved MNIST data\n"
     ]
    }
   ],
   "source": [
    "train_data, test_data, m = get_mnist_data()"
   ]
  },
  {
   "cell_type": "code",
   "execution_count": null,
   "metadata": {},
   "outputs": [
    {
     "name": "stdout",
     "output_type": "stream",
     "text": [
      "INFO:tensorflow:Scale of 0 disables regularizer.\n",
      "Number of Epochs = 10\n",
      "Epoch: 9/10\r"
     ]
    }
   ],
   "source": [
    "model = AUTOENCODER_300_150_300(l2_reg = 0.0)\n",
    "\n",
    "init = tf.global_variables_initializer()\n",
    "\n",
    "num_epochs = 10\n",
    "\n",
    "#Train\n",
    "train_loss, test_loss = [], []\n",
    "batch_size = 200\n",
    "with tf.Session()   as sess:\n",
    "    init.run()\n",
    "    train_loss.append(model.loss.eval(session=sess, feed_dict={model.X: train_data}))\n",
    "    test_loss.append(model.loss.eval(session=sess, feed_dict={model.X: test_data}))\n",
    "    print(\"Number of Epochs = \" + str(num_epochs))\n",
    "    for epoch in range(num_epochs):\n",
    "        print(\"Epoch: \" + str(epoch) + \"/\" + str(num_epochs), end=\"\\r\")\n",
    "        n_batches = m//batch_size\n",
    "        for batch in range(n_batches):\n",
    "            X_batch = train_data[batch*batch_size: (batch + 1)*batch_size]\n",
    "            sess.run(model.training_op, feed_dict={model.X: X_batch})\n",
    "        train_loss.append(model.loss.eval(session=sess, feed_dict={model.X: train_data}))\n",
    "        test_loss.append(model.loss.eval(session=sess, feed_dict={model.X: test_data}))\n",
    "\n",
    "    reconstructions = model.outputs.eval(feed_dict={model.X: test_data[0: 10]})\n",
    "\n",
    "print(\"Train Loss: \", train_loss[-1])\n",
    "print(\"Test Loss: \", test_loss[-1])\n",
    "plot_reconstructions(test_data[0: 10], reconstructions)"
   ]
  },
  {
   "cell_type": "code",
   "execution_count": null,
   "metadata": {},
   "outputs": [],
   "source": []
  }
 ],
 "metadata": {
  "kernelspec": {
   "display_name": "Python 3",
   "language": "python",
   "name": "python3"
  },
  "language_info": {
   "codemirror_mode": {
    "name": "ipython",
    "version": 3
   },
   "file_extension": ".py",
   "mimetype": "text/x-python",
   "name": "python",
   "nbconvert_exporter": "python",
   "pygments_lexer": "ipython3",
   "version": "3.6.8"
  }
 },
 "nbformat": 4,
 "nbformat_minor": 4
}
